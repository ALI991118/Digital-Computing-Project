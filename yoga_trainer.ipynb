{
 "cells": [
  {
   "metadata": {
    "ExecuteTime": {
     "end_time": "2024-05-10T14:50:12.309093Z",
     "start_time": "2024-05-10T14:50:06.862283Z"
    }
   },
   "cell_type": "code",
   "source": [
    "import cv2\n",
    "import mediapipe as mp\n",
    "import numpy as np"
   ],
   "id": "e886258df8b3621",
   "outputs": [],
   "execution_count": 1
  },
  {
   "metadata": {
    "ExecuteTime": {
     "end_time": "2024-05-10T14:50:12.313011Z",
     "start_time": "2024-05-10T14:50:12.310330Z"
    }
   },
   "cell_type": "code",
   "source": [
    "mp_drawing = mp.solutions.drawing_utils\n",
    "mp_pose = mp.solutions.pose"
   ],
   "id": "807840ddf4df3fdc",
   "outputs": [],
   "execution_count": 2
  },
  {
   "metadata": {
    "ExecuteTime": {
     "end_time": "2024-05-10T14:50:12.317302Z",
     "start_time": "2024-05-10T14:50:12.313709Z"
    }
   },
   "cell_type": "code",
   "source": [
    "def calculate_angle(a, b, c):\n",
    "    \"\"\"Calculate the angle between three points.\"\"\"\n",
    "    \n",
    "    a = np.array(a)  # Point A coordinates\n",
    "    b = np.array(b)  # Point B coordinates (vertex)\n",
    "    c = np.array(c)  # Point C coordinates\n",
    "    \n",
    "    radians = np.arctan2(c[1] - b[1], c[0] - b[0]) - np.arctan2(a[1] - b[1], a[0] - b[0])\n",
    "    angle = np.abs(radians * 180.0 / np.pi)\n",
    "    \n",
    "    if angle > 180:\n",
    "        angle = 360 - angle\n",
    "        \n",
    "    return angle"
   ],
   "id": "20b2680743e334bf",
   "outputs": [],
   "execution_count": 3
  },
  {
   "metadata": {
    "ExecuteTime": {
     "end_time": "2024-05-10T14:50:12.328930Z",
     "start_time": "2024-05-10T14:50:12.318036Z"
    }
   },
   "cell_type": "code",
   "source": [
    "def classify_pose(landmarks, frame):\n",
    "    \n",
    "    \"\"\"Classify the yoga pose and grade based on angle precision.\"\"\"\n",
    "    label = 'Unknown Pose'\n",
    "    color = (0, 0, 255)  # Default to red for unknown pose\n",
    "\n",
    "\n",
    "    if landmarks:\n",
    "        # Extract landmarks and calculate angles as previously\n",
    "        # Extract landmarks for the required joints\n",
    "        left_shoulder = [landmarks[mp_pose.PoseLandmark.LEFT_SHOULDER.value].x,\n",
    "                         landmarks[mp_pose.PoseLandmark.LEFT_SHOULDER.value].y]\n",
    "        right_shoulder = [landmarks[mp_pose.PoseLandmark.RIGHT_SHOULDER.value].x,\n",
    "                          landmarks[mp_pose.PoseLandmark.RIGHT_SHOULDER.value].y]\n",
    "        left_elbow = [landmarks[mp_pose.PoseLandmark.LEFT_ELBOW.value].x,\n",
    "                      landmarks[mp_pose.PoseLandmark.LEFT_ELBOW.value].y]\n",
    "        right_elbow = [landmarks[mp_pose.PoseLandmark.RIGHT_ELBOW.value].x,\n",
    "                       landmarks[mp_pose.PoseLandmark.RIGHT_ELBOW.value].y]\n",
    "        left_wrist = [landmarks[mp_pose.PoseLandmark.LEFT_WRIST.value].x,\n",
    "                      landmarks[mp_pose.PoseLandmark.LEFT_WRIST.value].y]\n",
    "        right_wrist = [landmarks[mp_pose.PoseLandmark.RIGHT_WRIST.value].x,\n",
    "                       landmarks[mp_pose.PoseLandmark.RIGHT_WRIST.value].y]\n",
    "        left_hip = [landmarks[mp_pose.PoseLandmark.LEFT_HIP.value].x,\n",
    "                    landmarks[mp_pose.PoseLandmark.LEFT_HIP.value].y]\n",
    "        right_hip = [landmarks[mp_pose.PoseLandmark.RIGHT_HIP.value].x,\n",
    "                     landmarks[mp_pose.PoseLandmark.RIGHT_HIP.value].y]\n",
    "        left_knee = [landmarks[mp_pose.PoseLandmark.LEFT_KNEE.value].x,\n",
    "                     landmarks[mp_pose.PoseLandmark.LEFT_KNEE.value].y]\n",
    "        right_knee = [landmarks[mp_pose.PoseLandmark.RIGHT_KNEE.value].x,\n",
    "                      landmarks[mp_pose.PoseLandmark.RIGHT_KNEE.value].y]\n",
    "        left_ankle = [landmarks[mp_pose.PoseLandmark.LEFT_ANKLE.value].x,\n",
    "                      landmarks[mp_pose.PoseLandmark.LEFT_ANKLE.value].y]\n",
    "        right_ankle = [landmarks[mp_pose.PoseLandmark.RIGHT_ANKLE.value].x,\n",
    "                       landmarks[mp_pose.PoseLandmark.RIGHT_ANKLE.value].y]\n",
    "        \n",
    "        \n",
    "        \n",
    "        #  left_shoulder = [landmarks[mp_pose.PoseLandmark.LEFT_SHOULDER.value].x,\n",
    "        #                  landmarks[mp_pose.PoseLandmark.LEFT_SHOULDER.value].y]\n",
    "        # right_shoulder = [landmarks[mp_pose.PoseLandmark.RIGHT_SHOULDER.value].x,\n",
    "        #                   landmarks[mp_pose.PoseLandmark.RIGHT_SHOULDER.value].y]\n",
    "        # left_elbow = [landmarks[mp_pose.PoseLandmark.LEFT_ELBOW.value].x,\n",
    "        #               landmarks[mp_pose.PoseLandmark.LEFT_ELBOW.value].y]\n",
    "        # right_elbow = [landmarks[mp_pose.PoseLandmark.RIGHT_ELBOW.value].x,\n",
    "        #                landmarks[mp_pose.PoseLandmark.RIGHT_ELBOW.value].y]\n",
    "        # left_wrist = [landmarks[mp_pose.PoseLandmark.LEFT_WRIST.value].x,\n",
    "        #               landmarks[mp_pose.PoseLandmark.LEFT_WRIST.value].y]\n",
    "        # right_wrist = [landmarks[mp_pose.PoseLandmark.RIGHT_WRIST.value].x,\n",
    "        #                landmarks[mp_pose.PoseLandmark.RIGHT_WRIST.value].y]\n",
    "        # left_hip = [landmarks[mp_pose.PoseLandmark.LEFT_HIP.value].x,\n",
    "        #             landmarks[mp_pose.PoseLandmark.LEFT_HIP.value].y]\n",
    "        # right_hip = [landmarks[mp_pose.PoseLandmark.RIGHT_HIP.value].x,\n",
    "        #              landmarks[mp_pose.PoseLandmark.RIGHT_HIP.value].y]\n",
    "        # left_knee = [landmarks[mp_pose.PoseLandmark.LEFT_KNEE.value].x,\n",
    "        #              landmarks[mp_pose.PoseLandmark.LEFT_KNEE.value].y]\n",
    "        # right_knee = [landmarks[mp_pose.PoseLandmark.RIGHT_KNEE.value].x,\n",
    "        #               landmarks[mp_pose.PoseLandmark.RIGHT_KNEE.value].y]\n",
    "        # left_ankle = [landmarks[mp_pose.PoseLandmark.LEFT_ANKLE.value].x,\n",
    "        #               landmarks[mp_pose.PoseLandmark.LEFT_ANKLE.value].y]\n",
    "        # right_ankle = [landmarks[mp_pose.PoseLandmark.RIGHT_ANKLE.value].x,\n",
    "        #                landmarks[mp_pose.PoseLandmark.RIGHT_ANKLE.value].y]\n",
    "\n",
    "\n",
    "\n",
    "        # Calculate angles\n",
    "        angle1 = calculate_angle(left_shoulder, left_elbow, left_wrist)\n",
    "        angle2 = calculate_angle(right_shoulder, right_elbow, right_wrist)\n",
    "        angle3 = calculate_angle(right_elbow, right_shoulder, right_hip)\n",
    "        angle4 = calculate_angle(left_elbow, left_shoulder, left_hip)\n",
    "        angle5 = calculate_angle(right_shoulder, right_hip, right_knee)\n",
    "        angle6 = calculate_angle(left_shoulder, left_hip, left_knee)\n",
    "        angle7 = calculate_angle(right_hip, right_knee, right_ankle)\n",
    "        angle8 = calculate_angle(left_hip, left_knee, left_ankle)\n",
    "        \n",
    "        \n",
    "        #target angles(use T pose as the example)\n",
    "        target_angles = {'angle1': 180, 'angle2': 180, 'angle3': 90, 'angle4': 90, 'angle5': 180, 'angle6': 180, 'angle7': 180, 'angle8': 180} \n",
    "        \n",
    "    \n",
    "        \n",
    "         # Define pose based on the angles\n",
    "        if (angle2 > 160 and angle2 < 200) and (angle1 > 160 and angle1 < 200):  # angle1 = angle2 = 180 degree\n",
    "            if (angle4 > 70 and angle4 < 110) and (angle3 > 70 and angle3 < 110): # angle3 = angle4 = 90 degree\n",
    "                if (angle5 > 160 and angle5 < 200) and (angle6 > 160 and angle6 < 200): # (angle5=130 and angle6=180) or (angle6=130 and angle5=180)\n",
    "                    if (angle8 > 160 and angle8 < 200) and (angle7 > 160 and angle7 < 200): # angle7 = angle8 = 180 degree\n",
    "                        label = 'T Pose'\n",
    "                        color = (0, 255, 0)  # Green for T Pose\n",
    "                        # Target angles for T Pose (example)\n",
    "                        \n",
    "       \n",
    "        # Define pose based on the angles\n",
    "        if angle2 > 160 and angle2 < 200 and angle1 > 160 and angle1 < 200:  # angle1 = angle2 = 180 degree\n",
    "            if angle4 > 160 and angle4 < 200 and angle3 > 160 and angle3 < 200: # angle3 = angle4 = 180 degree\n",
    "                if (angle5 > 110 and angle5 < 150) or (angle6 > 110 and angle6 < 150): # (angle5=130 and angle6=180) or (angle6=130 and angle5=180)\n",
    "                    label = 'Tree Pose'\n",
    "                    color = (255, 225, 225)  # blue for Tree Pose\n",
    "                    target_angles = {'angle1': 180, 'angle2': 180, 'angle3': 180, 'angle4': 180, 'angle5': 110-200, 'angle6': 110-200, 'angle7': 60-200, 'angle8': 60-200}\n",
    "                    \n",
    "\n",
    "        # Define pose based on the angles\n",
    "        if angle2 > 160 and angle2 < 200 and angle1 > 160 and angle1 < 200:  # angle1 = angle2 = 180 degree\n",
    "            if angle4 > 70 and angle4 < 110 and angle3 > 70 and angle3 < 110: # angle3 = angle4 = 90 degree\n",
    "                if (angle5 > 70 and angle5 < 110 and angle6 >120 and angle6 < 160) or  (angle6 > 70 and angle6 < 110 and angle5 >120 and angle5 < 160): # (angle5=90 and angle6=140) or  (angle6=90 and angle5=140)\n",
    "                        if (angle8 > 160 and angle8 < 200 and angle7 > 70 and angle7 < 110) or (angle7 > 160 and angle7 < 200 and angle8 > 70 and angle8 < 110):  # (angle7=90 and angle8=180) or (angle8=90 and angle7=180)\n",
    "                            label = 'Warrior II Pose'\n",
    "                            color = (255, 215, 0)  # Gold color for Warrior II Pose\n",
    "                            target_angles = {'angle1': 180, 'angle2': 180, 'angle3': 180, 'angle4': 180, 'angle5': 180, 'angle6': 180, 'angle7': 180, 'angle8': 180}\n",
    "       \n",
    "\n",
    "\n",
    "        # Angles dictionary for comparison\n",
    "        user_angles = {'angle1': angle1, 'angle2': angle2, 'angle3': angle3, 'angle4': angle4, 'angle5': angle5, 'angle6': angle6, 'angle7': angle7, 'angle8': angle8}\n",
    "\n",
    "\n",
    "        # Evaluate angles\n",
    "        feedback, color = evaluate_angles(user_angles, target_angles)\n",
    "\n",
    "\n",
    "        # Display the pose label and feedback\n",
    "        cv2.putText(frame, f'{label}: {feedback}', (10, 50), cv2.FONT_HERSHEY_SIMPLEX, 1, color, 2, cv2.LINE_AA)\n",
    "        \n",
    "        \n",
    "        cv2.putText(frame, 'Shoulder-Elbow-Wrist L: {:.2f}, R: {:.2f}'.format(angle1, angle2), (10, 70), cv2.FONT_HERSHEY_SIMPLEX, 0.5, color, 1)\n",
    "        cv2.putText(frame, 'Elbow-Shoulder-Hip R: {:.2f}, L: {:.2f}'.format(angle3, angle4), (10, 90), cv2.FONT_HERSHEY_SIMPLEX, 0.5, color, 1)\n",
    "        cv2.putText(frame, 'Shoulder-Hip-Knee R: {:.2f}, L: {:.2f}'.format(angle5, angle6), (10, 110), cv2.FONT_HERSHEY_SIMPLEX, 0.5, color, 1)\n",
    "        cv2.putText(frame, 'Hip-Knee-Ankle R: {:.2f}, L: {:.2f}'.format(angle7, angle8), (10, 130), cv2.FONT_HERSHEY_SIMPLEX, 0.5, color, 1)\n",
    "\n",
    "\n",
    "    return frame"
   ],
   "id": "2ccccc310b878f4a",
   "outputs": [],
   "execution_count": 4
  },
  {
   "metadata": {
    "ExecuteTime": {
     "end_time": "2024-05-10T14:50:12.332961Z",
     "start_time": "2024-05-10T14:50:12.330513Z"
    }
   },
   "cell_type": "code",
   "source": [
    "def evaluate_angles(user_angles, target_angles):\n",
    "    \n",
    "    \"\"\"Evaluate angles and return feedback.\"\"\"\n",
    "    deviations = {key: abs(user_angles[key] - target_angles[key]) for key in user_angles}\n",
    "    \n",
    "    if all(dev <= 10 for dev in deviations.values()):\n",
    "        return \"Excellent\", (0, 255, 0)  # Green\n",
    "    elif all(dev <= 15 for dev in deviations.values()):\n",
    "        return \"Good\", (255, 255, 0)  # Yellow\n",
    "    elif any(dev > 20 for dev in deviations.values()):\n",
    "        return \"Needs Improvement\", (255, 0, 0)  # Red"
   ],
   "id": "5a9bc70a6326b426",
   "outputs": [],
   "execution_count": 5
  },
  {
   "metadata": {
    "ExecuteTime": {
     "end_time": "2024-05-10T14:50:53.661398Z",
     "start_time": "2024-05-10T14:50:12.333646Z"
    }
   },
   "cell_type": "code",
   "source": [
    "def main():\n",
    "    cap = cv2.VideoCapture(0)\n",
    "    with mp_pose.Pose(min_detection_confidence=0.5, min_tracking_confidence=0.5) as pose:\n",
    "        while cap.isOpened():\n",
    "            success, frame = cap.read()\n",
    "            if not success:\n",
    "                print(\"Ignoring empty camera frame.\")\n",
    "                continue\n",
    "\n",
    "\n",
    "            frame.flags.writeable = False\n",
    "            frame = cv2.cvtColor(frame, cv2.COLOR_BGR2RGB)\n",
    "            results = pose.process(frame)\n",
    "\n",
    "\n",
    "            frame.flags.writeable = True\n",
    "            frame = cv2.cvtColor(frame, cv2.COLOR_RGB2BGR)\n",
    "            if results.pose_landmarks:\n",
    "                mp_drawing.draw_landmarks(\n",
    "                    frame, results.pose_landmarks, mp_pose.POSE_CONNECTIONS,\n",
    "                    mp_drawing.DrawingSpec(color=(245, 117, 66), thickness=2, circle_radius=2),\n",
    "                    mp_drawing.DrawingSpec(color=(245, 66, 230), thickness=2, circle_radius=2)\n",
    "                )\n",
    "                frame = classify_pose(results.pose_landmarks.landmark, frame)\n",
    "\n",
    "            cv2.imshow('Yoga Pose Trainer', frame)\n",
    "            if cv2.waitKey(5) & 0xFF == 27:\n",
    "                break\n",
    "\n",
    "    cap.release()\n",
    "    cv2.destroyAllWindows()\n",
    "\n",
    "if __name__ == \"__main__\":\n",
    "    main()"
   ],
   "id": "6cf2cc95d224c217",
   "outputs": [
    {
     "name": "stderr",
     "output_type": "stream",
     "text": [
      "WARNING: All log messages before absl::InitializeLog() is called are written to STDERR\n",
      "I0000 00:00:1715352612.762845  383726 gl_context.cc:357] GL version: 2.1 (2.1 Metal - 76.3), renderer: Apple M1\n",
      "INFO: Created TensorFlow Lite XNNPACK delegate for CPU.\n",
      "/Users/ali/Desktop/24s2/COMP5405/homework/venv/lib/python3.10/site-packages/google/protobuf/symbol_database.py:55: UserWarning: SymbolDatabase.GetPrototype() is deprecated. Please use message_factory.GetMessageClass() instead. SymbolDatabase.GetPrototype() will be removed soon.\n",
      "  warnings.warn('SymbolDatabase.GetPrototype() is deprecated. Please '\n"
     ]
    },
    {
     "ename": "KeyboardInterrupt",
     "evalue": "",
     "output_type": "error",
     "traceback": [
      "\u001B[0;31m---------------------------------------------------------------------------\u001B[0m",
      "\u001B[0;31mKeyboardInterrupt\u001B[0m                         Traceback (most recent call last)",
      "Cell \u001B[0;32mIn[6], line 34\u001B[0m\n\u001B[1;32m     31\u001B[0m     cv2\u001B[38;5;241m.\u001B[39mdestroyAllWindows()\n\u001B[1;32m     33\u001B[0m \u001B[38;5;28;01mif\u001B[39;00m \u001B[38;5;18m__name__\u001B[39m \u001B[38;5;241m==\u001B[39m \u001B[38;5;124m\"\u001B[39m\u001B[38;5;124m__main__\u001B[39m\u001B[38;5;124m\"\u001B[39m:\n\u001B[0;32m---> 34\u001B[0m     \u001B[43mmain\u001B[49m\u001B[43m(\u001B[49m\u001B[43m)\u001B[49m\n",
      "Cell \u001B[0;32mIn[6], line 27\u001B[0m, in \u001B[0;36mmain\u001B[0;34m()\u001B[0m\n\u001B[1;32m     24\u001B[0m             frame \u001B[38;5;241m=\u001B[39m classify_pose(results\u001B[38;5;241m.\u001B[39mpose_landmarks\u001B[38;5;241m.\u001B[39mlandmark, frame)\n\u001B[1;32m     26\u001B[0m         cv2\u001B[38;5;241m.\u001B[39mimshow(\u001B[38;5;124m'\u001B[39m\u001B[38;5;124mYoga Pose Trainer\u001B[39m\u001B[38;5;124m'\u001B[39m, frame)\n\u001B[0;32m---> 27\u001B[0m         \u001B[38;5;28;01mif\u001B[39;00m \u001B[43mcv2\u001B[49m\u001B[38;5;241;43m.\u001B[39;49m\u001B[43mwaitKey\u001B[49m\u001B[43m(\u001B[49m\u001B[38;5;241;43m5\u001B[39;49m\u001B[43m)\u001B[49m \u001B[38;5;241m&\u001B[39m \u001B[38;5;241m0xFF\u001B[39m \u001B[38;5;241m==\u001B[39m \u001B[38;5;241m27\u001B[39m:\n\u001B[1;32m     28\u001B[0m             \u001B[38;5;28;01mbreak\u001B[39;00m\n\u001B[1;32m     30\u001B[0m cap\u001B[38;5;241m.\u001B[39mrelease()\n",
      "\u001B[0;31mKeyboardInterrupt\u001B[0m: "
     ]
    }
   ],
   "execution_count": 6
  },
  {
   "metadata": {
    "ExecuteTime": {
     "end_time": "2024-05-10T14:50:53.663329Z",
     "start_time": "2024-05-10T14:50:53.663123Z"
    }
   },
   "cell_type": "code",
   "source": "",
   "id": "c557becdd9f5bd8d",
   "outputs": [],
   "execution_count": null
  }
 ],
 "metadata": {
  "kernelspec": {
   "display_name": "Python 3",
   "language": "python",
   "name": "python3"
  },
  "language_info": {
   "codemirror_mode": {
    "name": "ipython",
    "version": 2
   },
   "file_extension": ".py",
   "mimetype": "text/x-python",
   "name": "python",
   "nbconvert_exporter": "python",
   "pygments_lexer": "ipython2",
   "version": "2.7.6"
  }
 },
 "nbformat": 4,
 "nbformat_minor": 5
}
